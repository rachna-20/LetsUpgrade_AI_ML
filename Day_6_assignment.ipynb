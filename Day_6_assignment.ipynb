{
 "cells": [
  {
   "cell_type": "markdown",
   "metadata": {},
   "source": [
    "## Question 1 :\n",
    "### Assuming that we have some email addresses in the \"username@companyname.com\" format, pleasewrite a program to print the company name of a given email address. Both user names and companynames are composed of letters only.\n",
    "    Input Format:The first line of the input contains an email address.\n",
    "    Output Format:Print the company name in a single line\n",
    "    Example; \n",
    "    Input: \n",
    "    john@google.com \n",
    "    Output:\n",
    "    google."
   ]
  },
  {
   "cell_type": "code",
   "execution_count": 1,
   "metadata": {},
   "outputs": [
    {
     "name": "stdout",
     "output_type": "stream",
     "text": [
      "Enter the Emailjohn@google.com\n",
      "company name :  google\n"
     ]
    }
   ],
   "source": [
    "def company_name(name):\n",
    "    result = name.split('@')[1].split('.')[0]\n",
    "    print(\"company name : \",result)\n",
    "email = input(\"Enter the Email\")\n",
    "company_name(email)"
   ]
  },
  {
   "cell_type": "markdown",
   "metadata": {},
   "source": [
    "## Question 2 :\n",
    "## Write a program that accepts a comma-separated sequence of words as input and prints the words in a comma-separated sequence after sorting them alphabetically.\n",
    "    Input Format:\n",
    "    The first line of input contains words separated by the comma.\n",
    "    Output Format:\n",
    "    Print the sorted words separated by the comma.\n",
    "    Example:\n",
    "    Input:\n",
    "    without,hello,bag,world\n",
    "    Output:\n",
    "    bag,hello,without,world"
   ]
  },
  {
   "cell_type": "code",
   "execution_count": 2,
   "metadata": {},
   "outputs": [
    {
     "name": "stdout",
     "output_type": "stream",
     "text": [
      "enter the words: without,hello,bag,world\n",
      "Comma-separated sequence after sorting :  bag,hello,without,world\n"
     ]
    }
   ],
   "source": [
    "def sorted_words(n):\n",
    "    n = n.split(',')\n",
    "    n = sorted(n)\n",
    "    print(\"Comma-separated sequence after sorting : \" ,','.join(n))\n",
    "words = input(\"enter the words: \")\n",
    "sorted_words(words)"
   ]
  },
  {
   "cell_type": "markdown",
   "metadata": {},
   "source": [
    "## Question 3:\n",
    "### Create your own Jupyter Notebook for Sets."
   ]
  },
  {
   "cell_type": "markdown",
   "metadata": {},
   "source": [
    "# sets:\n",
    "    "
   ]
  },
  {
   "cell_type": "markdown",
   "metadata": {},
   "source": [
    "* set is a collection which is unorderd and unidexed.\n",
    "* set is represented by curly braces.\n"
   ]
  },
  {
   "cell_type": "markdown",
   "metadata": {},
   "source": [
    "Example:"
   ]
  },
  {
   "cell_type": "code",
   "execution_count": 3,
   "metadata": {},
   "outputs": [
    {
     "name": "stdout",
     "output_type": "stream",
     "text": [
      "{'b', 'c', 'e', 'd', 'a'}\n"
     ]
    }
   ],
   "source": [
    "s = {'a' , 'b' , 'c' , 'd' , 'e'}\n",
    "print(s)"
   ]
  },
  {
   "cell_type": "markdown",
   "metadata": {},
   "source": [
    "## Functions in Sets:"
   ]
  },
  {
   "cell_type": "markdown",
   "metadata": {},
   "source": [
    "## add() :\n",
    "add() function adds the element in the set ."
   ]
  },
  {
   "cell_type": "code",
   "execution_count": 4,
   "metadata": {},
   "outputs": [
    {
     "name": "stdout",
     "output_type": "stream",
     "text": [
      "{'b', 'c', 'e', 'd', 'h', 'a'}\n"
     ]
    }
   ],
   "source": [
    "s.add('h')\n",
    "print(s)"
   ]
  },
  {
   "cell_type": "markdown",
   "metadata": {},
   "source": [
    "## update()\n",
    "we can add more than one element in the set by update() method."
   ]
  },
  {
   "cell_type": "code",
   "execution_count": 5,
   "metadata": {},
   "outputs": [
    {
     "name": "stdout",
     "output_type": "stream",
     "text": [
      "{'b', 'v', 'c', 'e', 'd', 'h', 'r', 'a', 'k'}\n"
     ]
    }
   ],
   "source": [
    "s.update(['r','v','k'])\n",
    "print(s)"
   ]
  },
  {
   "cell_type": "markdown",
   "metadata": {},
   "source": [
    "## remove()\n",
    "we can remove element from set by remove method().\n",
    "## discard()\n",
    "we can also remove element from set by discard method().\n",
    "## pop()\n",
    "the pop() method delete the last element from the set."
   ]
  },
  {
   "cell_type": "code",
   "execution_count": 6,
   "metadata": {},
   "outputs": [
    {
     "name": "stdout",
     "output_type": "stream",
     "text": [
      "{'b', 'v', 'c', 'e', 'h', 'r', 'a', 'k'}\n",
      "{'b', 'v', 'c', 'e', 'h', 'r', 'a'}\n",
      "{'v', 'c', 'e', 'h', 'r', 'a'}\n"
     ]
    }
   ],
   "source": [
    "# remove()\n",
    "s.remove('d')\n",
    "print(s)\n",
    "\n",
    "# discard()\n",
    "s.discard('k')\n",
    "print(s)\n",
    "\n",
    "# pop()\n",
    "s.pop()\n",
    "print(s)"
   ]
  },
  {
   "cell_type": "markdown",
   "metadata": {},
   "source": [
    "## union()\n",
    "union() method returns a new set with distinct elements from all the sets. The union of two or more sets is the set of all distinct elements present in all the sets."
   ]
  },
  {
   "cell_type": "code",
   "execution_count": 7,
   "metadata": {},
   "outputs": [
    {
     "name": "stdout",
     "output_type": "stream",
     "text": [
      "{'b', 'c', 'g', 'e', 'd', 'a', 'f', 'i'}\n"
     ]
    }
   ],
   "source": [
    "set1 = {'a','b','c','d','e','f'}\n",
    "set2 = {'e','g','a','b','i'}\n",
    "print(set1.union(set2))"
   ]
  },
  {
   "cell_type": "markdown",
   "metadata": {},
   "source": [
    "## Question 4:\n",
    "## Given a list of n-1 numbers ranging from 1 to n, your task is to find the missing number. There are no duplicates.\n",
    "    Input Format:\n",
    "    The first line contains n-1 numbers with each number separated by a space.\n",
    "    Output Format:\n",
    "    Print the missing number\n",
    "    Example:\n",
    "    Input:\n",
    "    1 2 4 6 3 7 8\n",
    "    Output:\n",
    "    5\n",
    "    Explanation:\n",
    "    In the above list of numbers 5 is missing and hence 5 is the input"
   ]
  },
  {
   "cell_type": "code",
   "execution_count": 8,
   "metadata": {},
   "outputs": [
    {
     "name": "stdout",
     "output_type": "stream",
     "text": [
      "enter list1 2 4 6 3 7 8\n",
      "missing value  5\n"
     ]
    }
   ],
   "source": [
    "def missing_num(n):\n",
    "    li = n.split(' ')\n",
    "    li = [int(i) for i in li]\n",
    "    li = sorted(li)\n",
    "    set2 = {x for x in range (1,li[-1])}\n",
    "    set1 = set(li) \n",
    "    diff = set2 - set1\n",
    "    diff = list(map(str,diff))\n",
    "    print(\"missing value \" ,','.join(diff))\n",
    "user_list = input('enter list')\n",
    "missing_num(user_list)"
   ]
  },
  {
   "cell_type": "markdown",
   "metadata": {},
   "source": [
    "## Question:5\n",
    "## With a given list L, write a program to print this list L after removing all duplicate values with original order reserved.\n",
    "    Example:\n",
    "    If the input list is\n",
    "    12 24 35 24 88 120 155 88 120 155\n",
    "    Then the output should be\n",
    "    12 24 35 88 120 155\n",
    "    Explanation:\n",
    "    Third, the seventh and ninth element of the list L has been removed because it was already present.\n",
    "    Input Format:\n",
    "    In one line take the elements of the list L with each element separated by a space.\n",
    "    Output Format:\n",
    "    Print the elements of the modified list in one line with each element separated by a space.\n",
    "    Example:\n",
    "    Input:\n",
    "    12 24 35 24\n",
    "    Output:\n",
    "    12 24 35"
   ]
  },
  {
   "cell_type": "code",
   "execution_count": 9,
   "metadata": {},
   "outputs": [
    {
     "name": "stdout",
     "output_type": "stream",
     "text": [
      "enter the list of elements12 24 35 24\n",
      "['12', '24', '35']\n"
     ]
    }
   ],
   "source": [
    "def remove_duplicates(a):\n",
    "    li = input_list.split(' ')\n",
    "    li = [int(a) for a in li]\n",
    "    li = sorted(set(li))\n",
    "    li = list(map(str, li))\n",
    "    print(li)\n",
    "input_list = input('enter the list of elements')\n",
    "remove_duplicates(input_list)"
   ]
  },
  {
   "cell_type": "code",
   "execution_count": null,
   "metadata": {},
   "outputs": [],
   "source": []
  }
 ],
 "metadata": {
  "kernelspec": {
   "display_name": "Python 3",
   "language": "python",
   "name": "python3"
  },
  "language_info": {
   "codemirror_mode": {
    "name": "ipython",
    "version": 3
   },
   "file_extension": ".py",
   "mimetype": "text/x-python",
   "name": "python",
   "nbconvert_exporter": "python",
   "pygments_lexer": "ipython3",
   "version": "3.7.6"
  }
 },
 "nbformat": 4,
 "nbformat_minor": 4
}
