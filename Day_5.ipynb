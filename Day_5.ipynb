{
 "cells": [
  {
   "cell_type": "markdown",
   "metadata": {},
   "source": [
    "## Question 1 :\n",
    "Write a Python program to find the first 20 non-even prime natural numbers."
   ]
  },
  {
   "cell_type": "code",
   "execution_count": 1,
   "metadata": {},
   "outputs": [],
   "source": [
    "for num in range(1,72):\n",
    "    if num > 1:\n",
    "        for i in range(2, num):\n",
    "            if (num % i) == 0:\n",
    "                break\n",
    "        else:\n",
    "            print(num)"
   ]
  },
  {
   "cell_type": "markdown",
   "metadata": {},
   "source": [
    "## Question 2 :\n",
    "Write a Python program to implement 15 functions of string."
   ]
  },
  {
   "cell_type": "code",
   "execution_count": 2,
   "metadata": {},
   "outputs": [
    {
     "name": "stdout",
     "output_type": "stream",
     "text": [
      "python program to implement functions of the string\n",
      "PYTHON PROGRAM TO IMPLEMENT FUNCTIONS OF THE STRING\n",
      "Python program to implement functions of the string\n",
      "Python program to show functions of the String\n",
      "Python Program To Implement Functions Of The String\n",
      "False\n",
      "['Python', 'program', 'to', 'implement', 'functions', 'of', 'the', 'String']\n",
      "1\n",
      "28\n",
      "51\n",
      "41\n",
      "pYTHON PROGRAM TO IMPLEMENT FUNCTIONS OF THE sTRING\n",
      "True\n",
      "False\n",
      "False\n"
     ]
    }
   ],
   "source": [
    "s = 'Python program to implement functions of the String'\n",
    "# lower(): converts all the character of the string in to lowercase\n",
    "print(s.lower())\n",
    "\n",
    "# upper(): converts all the character of the string in to uppercase\n",
    "print(s.upper())\n",
    "\n",
    "# capitalize() : converts first character of the string in to uppercase \n",
    "print(s.capitalize())\n",
    "\n",
    "# replace(): replace the words\n",
    "print(s.replace('implement','show'))\n",
    "\n",
    "# title(): converts the first character of each word in to uppercase \n",
    "print(s.title())\n",
    "\n",
    "# isnumeric() : returns true if string is numeric otherwise returns false\n",
    "print(s.isnumeric())\n",
    "\n",
    "# split() : it splits the words of the string and returns a list\n",
    "print(s.split())\n",
    "\n",
    "# count() : counts the specified word in the string \n",
    "print(s.count('program'))\n",
    "\n",
    "# find() : find the position of the specified value\n",
    "print(s.find(\"functions\"))\n",
    "\n",
    "#len() : find the length of the string\n",
    "print(len(s))\n",
    "\n",
    "# index() : find the position of the specified value\n",
    "print(s.index(\"the\"))\n",
    "\n",
    "# swapcase() : converts the  uppercase into lowercase and vice-versa\n",
    "print(s.swapcase())\n",
    "\n",
    "# startswith() : check if string starts with specified value return true otherwise False\n",
    "print(s.startswith('Python'))\n",
    "\n",
    "# isdigit() : check if digits are present in string then returns True\n",
    "print(s.isdigit())\n",
    "\n",
    "#isspace() : check if any whitespace present in string then returns True\n",
    "print(s.isspace())"
   ]
  },
  {
   "cell_type": "markdown",
   "metadata": {},
   "source": [
    "## Question 3:\n",
    "Write a Python program to check if the given string is a Palindrome or Anagram or None of them. Display\n",
    "the message accordingly to the user."
   ]
  },
  {
   "cell_type": "code",
   "execution_count": 3,
   "metadata": {},
   "outputs": [
    {
     "name": "stdout",
     "output_type": "stream",
     "text": [
      "enter the string: rachna\n",
      "enter the string to check string anagram or not: hnacra\n",
      "string is anagram\n"
     ]
    }
   ],
   "source": [
    "st = input(\"enter the string: \")\n",
    "rev = st[::-1]\n",
    "if rev == st:\n",
    "    print(\"string is palindrome\")\n",
    "elif rev!= st:\n",
    "    st2 = input(\"enter the string to check string anagram or not: \")\n",
    "    sorted_st = sorted(st)\n",
    "    sorted_st2 = sorted(st2)\n",
    "    if sorted_st == sorted_st2:\n",
    "        print(\"string is anagram\")\n",
    "else:\n",
    "    print(\"none of them\")"
   ]
  },
  {
   "cell_type": "markdown",
   "metadata": {},
   "source": [
    "## Question 4:\n",
    "Write a Python's user-defined function that removes all the additional characters from the string and\n",
    "convert it finally to lower case using built-in lower(). eg: If the string is \"Dr. Darshan Ingle @AIML Trainer\",\n",
    "then the output be \"drdarshaningleaimltrainer\"."
   ]
  },
  {
   "cell_type": "code",
   "execution_count": 4,
   "metadata": {},
   "outputs": [
    {
     "name": "stdout",
     "output_type": "stream",
     "text": [
      "string is :  Dr. Darshan Ingle @AIML Trainer\n",
      "after removing the special characters string is:  dr.darshaningleaimltrainer\n"
     ]
    }
   ],
   "source": [
    "def remove_special_chars(x):\n",
    "    li = ['!','@','#','$','%','^','&','*','(',')','+','-','_','?',' ']\n",
    "    for i in li:\n",
    "        x = x.replace(i,'')\n",
    "        x = x.lower()\n",
    "    print(\"after removing the special characters string is: \",x)\n",
    "string = \"Dr. Darshan Ingle @AIML Trainer\"\n",
    "print(\"string is : \",string)\n",
    "remove_special_chars(string)\n"
   ]
  },
  {
   "cell_type": "code",
   "execution_count": null,
   "metadata": {},
   "outputs": [],
   "source": []
  }
 ],
 "metadata": {
  "kernelspec": {
   "display_name": "Python 3",
   "language": "python",
   "name": "python3"
  },
  "language_info": {
   "codemirror_mode": {
    "name": "ipython",
    "version": 3
   },
   "file_extension": ".py",
   "mimetype": "text/x-python",
   "name": "python",
   "nbconvert_exporter": "python",
   "pygments_lexer": "ipython3",
   "version": "3.7.6"
  }
 },
 "nbformat": 4,
 "nbformat_minor": 4
}
