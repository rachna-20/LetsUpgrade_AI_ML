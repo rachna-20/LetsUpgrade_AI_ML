{
 "cells": [
  {
   "cell_type": "markdown",
   "metadata": {},
   "source": [
    "## Question 1 : \n",
    "### Research on whether addition, subtraction, multiplication, division, floor division, and modulo operationsbe performed on complex numbers. Based on your study, implement a Python program to demonstratethese operations."
   ]
  },
  {
   "cell_type": "code",
   "execution_count": 1,
   "metadata": {},
   "outputs": [
    {
     "name": "stdout",
     "output_type": "stream",
     "text": [
      "enter the first complex number: 2+3j\n",
      "enter the second complex number: 3+4j\n",
      "addition of complex numbers is:  (5+7j)\n",
      "subtraction of complex numbers is:  (-1-1j)\n",
      "multiplication of complex numbers is:  (-6+17j)\n",
      "division  of complex numbers is:  (0.72+0.04j)\n"
     ]
    }
   ],
   "source": [
    "n1 = complex(input(\"enter the first complex number: \"))\n",
    "n2 = complex(input(\"enter the second complex number: \"))\n",
    "add = n1+n2\n",
    "print(\"addition of complex numbers is: \", add)\n",
    "\n",
    "sub = n1-n2\n",
    "print(\"subtraction of complex numbers is: \", sub)\n",
    "\n",
    "mul = n1*n2\n",
    "print(\"multiplication of complex numbers is: \", mul)\n",
    "\n",
    "div = n1/n2\n",
    "print(\"division  of complex numbers is: \", div)"
   ]
  },
  {
   "cell_type": "markdown",
   "metadata": {},
   "source": [
    "* Floor division and modulo can't be performed on the complex numbers."
   ]
  },
  {
   "cell_type": "markdown",
   "metadata": {},
   "source": [
    "## Question 2 :\n",
    "### Research on range() functions and its parameters. Create a markdown cell and write in your own words(no copy-paste from google please) what you understand about it. Implement a small program of yourchoice on the same."
   ]
  },
  {
   "cell_type": "markdown",
   "metadata": {},
   "source": []
  },
  {
   "cell_type": "markdown",
   "metadata": {},
   "source": [
    "### range(): \n",
    "* it is a built in function in python.\n",
    "* The range() function returns a sequence of numbers.\n",
    "\n",
    "\n",
    "#### syntax of range() function\n",
    "* range(start,stop,step)\n",
    "\n",
    "    "
   ]
  },
  {
   "cell_type": "code",
   "execution_count": 2,
   "metadata": {},
   "outputs": [
    {
     "name": "stdout",
     "output_type": "stream",
     "text": [
      "0\n",
      "1\n",
      "2\n",
      "3\n",
      "4\n",
      "5\n",
      "6\n",
      "7\n",
      "8\n",
      "9\n"
     ]
    }
   ],
   "source": [
    "n = range(10)\n",
    "for i in n:\n",
    "    print(i)"
   ]
  },
  {
   "cell_type": "markdown",
   "metadata": {},
   "source": [
    "* if we pass only one element in the range() function then it is the stop position and by default starts with 0 and increment by 1"
   ]
  },
  {
   "cell_type": "code",
   "execution_count": 3,
   "metadata": {},
   "outputs": [
    {
     "name": "stdout",
     "output_type": "stream",
     "text": [
      "1\n",
      "2\n",
      "3\n",
      "4\n",
      "5\n",
      "6\n",
      "7\n",
      "8\n",
      "9\n"
     ]
    }
   ],
   "source": [
    "n = range(1,10)\n",
    "for i in n:\n",
    "    print(i)"
   ]
  },
  {
   "cell_type": "markdown",
   "metadata": {},
   "source": [
    "* here we gives starting and stop condition and by default increment by 1"
   ]
  },
  {
   "cell_type": "code",
   "execution_count": 4,
   "metadata": {},
   "outputs": [
    {
     "name": "stdout",
     "output_type": "stream",
     "text": [
      "1\n",
      "3\n",
      "5\n",
      "7\n",
      "9\n"
     ]
    }
   ],
   "source": [
    "n = range(1,10,2)\n",
    "for i in n:\n",
    "    print(i)"
   ]
  },
  {
   "cell_type": "markdown",
   "metadata": {},
   "source": [
    "## Question 3:\n",
    "### Consider two numbers. Perform their subtraction and if the result of subtraction is greater than 25, printtheir multiplication result else print their division result."
   ]
  },
  {
   "cell_type": "code",
   "execution_count": 5,
   "metadata": {},
   "outputs": [
    {
     "name": "stdout",
     "output_type": "stream",
     "text": [
      "enter the first number: 50\n",
      "enter the second number: 20\n",
      "Result is greater than 25 then multiplication of numbers is :  1000\n"
     ]
    }
   ],
   "source": [
    "n1 = int(input(\"enter the first number: \"))\n",
    "n2 = int(input(\"enter the second number: \"))\n",
    "result = n1 - n2\n",
    "if result > 25:\n",
    "    print(\"Result is greater than 25 then multiplication of numbers is : \" , n1*n2)\n",
    "else:\n",
    "    print(\"result is less then 25 then division of numbers is : \",n1/n2)\n",
    "    "
   ]
  },
  {
   "cell_type": "markdown",
   "metadata": {},
   "source": [
    "## Question 4:\n",
    "### Consider a list of 10 elements of integer values. If the number in the list is divisible by 2, print the result as\"square of that number minus 2\"."
   ]
  },
  {
   "cell_type": "code",
   "execution_count": 6,
   "metadata": {},
   "outputs": [
    {
     "name": "stdout",
     "output_type": "stream",
     "text": [
      " square of the number which is divisible by 2\n",
      "2\n",
      "14\n",
      "34\n",
      "62\n",
      "98\n"
     ]
    }
   ],
   "source": [
    "li = [1,2,3,4,5,6,7,8,9,10]\n",
    "print(\" square of the number which is divisible by 2\")\n",
    "for i in li:\n",
    "    if i % 2== 0:\n",
    "        result = (i**2)-2\n",
    "        print(result)\n",
    "    "
   ]
  },
  {
   "cell_type": "markdown",
   "metadata": {},
   "source": [
    "## Question 5:\n",
    "### Consider a list of 10 elements. Print all the elements in the list which are greater than 7 when that number is divided 2."
   ]
  },
  {
   "cell_type": "code",
   "execution_count": 7,
   "metadata": {},
   "outputs": [
    {
     "name": "stdout",
     "output_type": "stream",
     "text": [
      "elements which is greater than 7 and divided by 2 : \n",
      "10\n",
      "12\n",
      "24\n",
      "16\n"
     ]
    }
   ],
   "source": [
    "li = [10,11,21,5,12,24,3,6,16,19]\n",
    "print(\"elements which is greater than 7 and divided by 2 : \")\n",
    "for i in li:\n",
    "    if i>7:\n",
    "        if i%2==0:\n",
    "            print(i)"
   ]
  },
  {
   "cell_type": "code",
   "execution_count": null,
   "metadata": {},
   "outputs": [],
   "source": []
  }
 ],
 "metadata": {
  "kernelspec": {
   "display_name": "Python 3",
   "language": "python",
   "name": "python3"
  },
  "language_info": {
   "codemirror_mode": {
    "name": "ipython",
    "version": 3
   },
   "file_extension": ".py",
   "mimetype": "text/x-python",
   "name": "python",
   "nbconvert_exporter": "python",
   "pygments_lexer": "ipython3",
   "version": "3.7.6"
  }
 },
 "nbformat": 4,
 "nbformat_minor": 4
}
