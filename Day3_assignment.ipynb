{
 "cells": [
  {
   "cell_type": "markdown",
   "metadata": {},
   "source": [
    "## Question 1 :"
   ]
  },
  {
   "cell_type": "markdown",
   "metadata": {},
   "source": [
    "### Write a program to subtract two complex numbers in Python."
   ]
  },
  {
   "cell_type": "code",
   "execution_count": 1,
   "metadata": {},
   "outputs": [
    {
     "name": "stdout",
     "output_type": "stream",
     "text": [
      "enter the first complex number: 13+6j\n",
      "enter the second complex number: 4+7j\n",
      "Subtraction of Complex numbers is :  (9-1j)\n"
     ]
    }
   ],
   "source": [
    "n1 = complex(input(\"enter the first complex number: \"))\n",
    "n2 = complex(input(\"enter the second complex number: \"))\n",
    "sub = n1 - n2\n",
    "print(\"Subtraction of Complex numbers is : \",sub)"
   ]
  },
  {
   "cell_type": "markdown",
   "metadata": {},
   "source": [
    "## Question 2 :"
   ]
  },
  {
   "cell_type": "markdown",
   "metadata": {},
   "source": [
    "### Write a program to find the fourth root of a number.\n"
   ]
  },
  {
   "cell_type": "code",
   "execution_count": 2,
   "metadata": {},
   "outputs": [
    {
     "name": "stdout",
     "output_type": "stream",
     "text": [
      "enter the number to be find the forth root:256\n",
      "Forth Root of The Number is:  4.0\n"
     ]
    }
   ],
   "source": [
    "import math\n",
    "n = int(input(\"enter the number to be find the forth root:\"))\n",
    "forth_root = pow(n,1/4)\n",
    "print(\"Forth Root of The Number is: \" , forth_root) "
   ]
  },
  {
   "cell_type": "markdown",
   "metadata": {},
   "source": [
    "## Question 3 :\n",
    "### Write a program to swap two numbers in Python with the help of a temporary variable.\n"
   ]
  },
  {
   "cell_type": "code",
   "execution_count": 3,
   "metadata": {},
   "outputs": [
    {
     "name": "stdout",
     "output_type": "stream",
     "text": [
      "enter the  First Number: 56\n",
      "enter the Second Number: 34\n",
      "After swapping , Numbers are:  34 56\n"
     ]
    }
   ],
   "source": [
    "a = int(input(\"enter the  First Number: \"))\n",
    "b = int(input(\"enter the Second Number: \"))\n",
    "temp = a\n",
    "a = b\n",
    "b = temp\n",
    "print(\"After swapping , Numbers are: \",a, b)"
   ]
  },
  {
   "cell_type": "markdown",
   "metadata": {},
   "source": [
    "## Question 4:\n",
    "### Write a program to swap two numbers in Python without using a temporary variable.\n"
   ]
  },
  {
   "cell_type": "code",
   "execution_count": 4,
   "metadata": {},
   "outputs": [
    {
     "name": "stdout",
     "output_type": "stream",
     "text": [
      "enter the first number :23\n",
      "enter the second number:12\n",
      "After swapping , Numbers are:  12 23\n"
     ]
    }
   ],
   "source": [
    "a = int(input(\"enter the first number :\"))\n",
    "b = int(input(\"enter the second number:\"))\n",
    "a,b = b,a\n",
    "print(\"After swapping , Numbers are: \",a, b)"
   ]
  },
  {
   "cell_type": "markdown",
   "metadata": {},
   "source": [
    "## Question 5:\n",
    "### Write a program to convert Fahrenheit to kelvin and celsius both.\n"
   ]
  },
  {
   "cell_type": "code",
   "execution_count": 5,
   "metadata": {},
   "outputs": [
    {
     "name": "stdout",
     "output_type": "stream",
     "text": [
      "enter the value of f:33\n",
      " converting  fahrenheit to kelvin :  273.7055555555555\n",
      " converting  fahrenheit to celcius:  0.5555555555555556\n"
     ]
    }
   ],
   "source": [
    "f = int(input(\"enter the value of f:\"))\n",
    "k = (f-32) * 5.0/9.0 + 273.15\n",
    "c = (f-32) * 5.0/9.0  \n",
    "print(\" converting  fahrenheit to kelvin : \",k)\n",
    "print(\" converting  fahrenheit to celcius: \",c)"
   ]
  },
  {
   "cell_type": "markdown",
   "metadata": {},
   "source": [
    "## Question 6:\n",
    "### Write a program to demonstrate all the available data types in Python. Hint: Use type() function."
   ]
  },
  {
   "cell_type": "code",
   "execution_count": 7,
   "metadata": {},
   "outputs": [
    {
     "name": "stdout",
     "output_type": "stream",
     "text": [
      "Type of a is :  <class 'int'>\n",
      "Type of b is :  <class 'float'>\n",
      "Type of c is :  <class 'str'>\n",
      "Type of d is :  <class 'list'>\n",
      "Type of e is :  <class 'dict'>\n",
      "Type of f is :  <class 'tuple'>\n"
     ]
    }
   ],
   "source": [
    "a = 56\n",
    "b= 7.8\n",
    "c= 'xyz'\n",
    "d= ['A','B','C']\n",
    "e = {'name': \"Rachna\" , 'Age':20, 'Course':'B.Tech'}\n",
    "f = ('A','B','C','D')\n",
    "print(\"Type of a is : \",type(a))\n",
    "print(\"Type of b is : \",type(b))\n",
    "print(\"Type of c is : \",type(c))\n",
    "print(\"Type of d is : \",type(d))\n",
    "print(\"Type of e is : \",type(e))\n",
    "print(\"Type of f is : \",type(f))"
   ]
  },
  {
   "cell_type": "code",
   "execution_count": null,
   "metadata": {},
   "outputs": [],
   "source": []
  }
 ],
 "metadata": {
  "kernelspec": {
   "display_name": "Python 3",
   "language": "python",
   "name": "python3"
  },
  "language_info": {
   "codemirror_mode": {
    "name": "ipython",
    "version": 3
   },
   "file_extension": ".py",
   "mimetype": "text/x-python",
   "name": "python",
   "nbconvert_exporter": "python",
   "pygments_lexer": "ipython3",
   "version": "3.7.6"
  }
 },
 "nbformat": 4,
 "nbformat_minor": 4
}
